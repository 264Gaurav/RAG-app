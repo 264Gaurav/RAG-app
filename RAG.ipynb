{
 "cells": [
  {
   "cell_type": "code",
   "execution_count": 1,
   "id": "d52c01ee-7978-4e67-bb9c-8c385e8221d3",
   "metadata": {},
   "outputs": [],
   "source": [
    "from langchain_community.document_loaders import PyPDFLoader\n",
    "\n",
    "loader = PyPDFLoader(\"defence.pdf\")\n",
    "data = loader.load()  # entire PDF is loaded as a single Document\n",
    "#data"
   ]
  },
  {
   "cell_type": "code",
   "execution_count": 2,
   "id": "e3350c69-6dd1-4e03-94f5-090a950b7ff5",
   "metadata": {},
   "outputs": [
    {
     "data": {
      "text/plain": [
       "58"
      ]
     },
     "execution_count": 2,
     "metadata": {},
     "output_type": "execute_result"
    }
   ],
   "source": [
    "len(data)"
   ]
  },
  {
   "cell_type": "code",
   "execution_count": 16,
   "id": "8d183057-b388-4d40-a3b5-da2f21ff742a",
   "metadata": {},
   "outputs": [
    {
     "name": "stdout",
     "output_type": "stream",
     "text": [
      "Total number of documents:  108\n"
     ]
    }
   ],
   "source": [
    "from langchain.text_splitter import RecursiveCharacterTextSplitter\n",
    "\n",
    "# split data\n",
    "text_splitter = RecursiveCharacterTextSplitter(chunk_size=1000 , chunk_overlap=200)\n",
    "docs = text_splitter.split_documents(data)\n",
    "\n",
    "\n",
    "print(\"Total number of documents: \",len(docs))"
   ]
  },
  {
   "cell_type": "code",
   "execution_count": 17,
   "id": "e147476f-f858-412e-aa4a-c7743bac9cbb",
   "metadata": {},
   "outputs": [
    {
     "data": {
      "text/plain": [
       "Document(metadata={'producer': 'Acrobat Distiller 22.0 (Windows)', 'creator': 'Adobe InDesign CC 2017 (Windows)', 'creationdate': '2022-07-13T15:53:59+05:30', 'author': 'admin', 'moddate': '2022-07-13T15:54:50+05:30', 'title': 'A91974ddz_pfxgde_b9o.tmp.pdf', 'source': 'defence.pdf', 'total_pages': 58, 'page': 8, 'page_label': '9'}, page_content='to explain this content as basis for their teaching. Use of references is highly \\n  \\nrecommended.\\n (2) To make learning effective the teachers must encourage students to participate \\nactively. Discuss the given activities in the class and ensure that children also\\n  present them in a written form.  \\n (3) At least once a week, ask children to discuss security issues that appear in the \\nnewspapers and magazines - Encourage them to express their individual\\n  opinions on such security issues. \\n (4) Organize field visits considering the situation. It helps children to develop\\n  their leadership qualities, co-operative spirit, communication skill etc.\\nEvaluation :\\n (1) There is no separate written examination for this course.\\n \\n(2) The written work stated in the workbook carries 40% weightage.')"
      ]
     },
     "execution_count": 17,
     "metadata": {},
     "output_type": "execute_result"
    }
   ],
   "source": [
    "docs[10]"
   ]
  },
  {
   "cell_type": "code",
   "execution_count": 18,
   "id": "7dcd70cc-e9ef-4788-b8d6-07ed051ad344",
   "metadata": {},
   "outputs": [
    {
     "name": "stdout",
     "output_type": "stream",
     "text": [
      "768\n"
     ]
    },
    {
     "data": {
      "text/plain": [
       "[0.05168594419956207,\n",
       " -0.030764883384108543,\n",
       " -0.03062233328819275,\n",
       " -0.02802734263241291,\n",
       " 0.01813093200325966]"
      ]
     },
     "execution_count": 18,
     "metadata": {},
     "output_type": "execute_result"
    }
   ],
   "source": [
    "from langchain_chroma import Chroma\n",
    "from langchain_google_genai import GoogleGenerativeAIEmbeddings\n",
    "\n",
    "from dotenv import load_dotenv\n",
    "load_dotenv()\n",
    "\n",
    "\n",
    "#Get an API key:\n",
    "# Head to https://ai.google.dev/gemini-api/docs/api-key to generate a Google AI API key. Paste in .env file\n",
    "\n",
    "# Embedding models: https://python.langchain.com/v0.1/docs/integrations/text_embedding/\n",
    "\n",
    "embeddings = GoogleGenerativeAIEmbeddings(model=\"models/embedding-001\")\n",
    "vector = embeddings.embed_query(\"hello, world!\")\n",
    "print(len(vector))\n",
    "vector[:5] #Inspect the first few dimensions of the embedding\n",
    "#vector"
   ]
  },
  {
   "cell_type": "code",
   "execution_count": 21,
   "id": "37d4e0d4-431d-466c-adb9-53e6c1096c49",
   "metadata": {},
   "outputs": [],
   "source": [
    "# Create a Chroma vector store by:\n",
    "# 1. Taking your list of Document objects (`docs`),\n",
    "# 2. Embedding each document using the specified Gemini embedding model,\n",
    "# 3. Storing both documents and their embeddings for later retrieval.\n",
    "vectorstore = Chroma.from_documents(\n",
    "    documents=docs,\n",
    "    embedding=GoogleGenerativeAIEmbeddings(model=\"models/embedding-001\")  # 1536-dimensional embedding vector for each document\n",
    ")\n"
   ]
  },
  {
   "cell_type": "code",
   "execution_count": 22,
   "id": "d6d5a5c3-14c8-4383-8b11-4f87ec1cc226",
   "metadata": {},
   "outputs": [],
   "source": [
    "# Convert the Chroma vector store into a retriever:\n",
    "# - `search_type=\"similarity\"` specifies semantic similarity search\n",
    "# - `search_kwargs={\"k\": 10}` returns the top 10 most similar documents - can use cosine similarity or euclidian dist. metrics\n",
    "retriever = vectorstore.as_retriever(\n",
    "    search_type=\"similarity\",\n",
    "    search_kwargs={\"k\": 10}\n",
    ")\n",
    "\n",
    "# Use the retriever to fetch documents relevant to the question:\n",
    "# This runs your query through the vector store and returns up to 10 docs\n",
    "# whose embeddings best match the question embedding.\n",
    "retrieved_docs = retriever.invoke(\"Tell me about relationship of science, technology and engineering\")\n"
   ]
  },
  {
   "cell_type": "code",
   "execution_count": 23,
   "id": "91515eea-85e7-487f-b3d5-7499e36b25ac",
   "metadata": {},
   "outputs": [
    {
     "data": {
      "text/plain": [
       "10"
      ]
     },
     "execution_count": 23,
     "metadata": {},
     "output_type": "execute_result"
    }
   ],
   "source": [
    "len(retrieved_docs)"
   ]
  },
  {
   "cell_type": "code",
   "execution_count": 24,
   "id": "930b9236-77c5-4cce-aa79-a4f6611ddd5c",
   "metadata": {},
   "outputs": [],
   "source": [
    "#retrieved_docs"
   ]
  },
  {
   "cell_type": "code",
   "execution_count": 25,
   "id": "34a1b042-effc-42ec-a21c-e0c8561ec166",
   "metadata": {},
   "outputs": [
    {
     "name": "stdout",
     "output_type": "stream",
     "text": [
      "by using already-existing tools and knowledge. This new-found knowledge may then be used \n",
      "by engineers to manufacture new tools and machines such as semiconductors, computers, \n",
      "and other forms of advanced technology. In this sense, scientists and engineers may both \n",
      "be considered as technologists. Therefore the three fields i.e. Science, Technology and \n",
      "Engineering are often considered as one for the purposes of research and development. \n",
      "Science is the systematic study of the structure and behaviour of the physical and \n",
      "natural world. Technology is the application of practical sciences for Industry or Commerce. \n",
      "Technology refers to methods, systems, and devices which are the result of scientific \n",
      "knowledge being used for practical purposes. A modern example is the rise of Information \n",
      "Technology (IT) which is the combined application of Computer Science and Electronics. \n",
      "Engineering is the application of mathematics, as well as scientific, economic, social, and\n"
     ]
    }
   ],
   "source": [
    "print(retrieved_docs[1].page_content)"
   ]
  },
  {
   "cell_type": "code",
   "execution_count": 26,
   "id": "83bf4f9d-0e8c-4e2b-8c78-acb922223637",
   "metadata": {},
   "outputs": [],
   "source": [
    "# Import the chat-based LLM wrapper for Google Gemini\n",
    "from langchain_google_genai import ChatGoogleGenerativeAI\n",
    "\n",
    "# Instantiate a chat LLM with specific settings:\n",
    "# - model=\"gemini-2.0-flash\": use the Gemini 2.0 flash chat model\n",
    "# - temperature=0.3: control randomness (0 = deterministic, 1 = highly creative)\n",
    "# - max_tokens=500: cap the response length to 500 tokens\n",
    "llm = ChatGoogleGenerativeAI(\n",
    "    model=\"gemini-2.0-flash\",\n",
    "    temperature=0.3,\n",
    "    max_tokens=500\n",
    ")\n"
   ]
  },
  {
   "cell_type": "code",
   "execution_count": 27,
   "id": "1bd9009c-e547-4065-bf28-78afbd09d009",
   "metadata": {},
   "outputs": [],
   "source": [
    "from langchain.chains import create_retrieval_chain\n",
    "from langchain.chains.combine_documents import create_stuff_documents_chain\n",
    "from langchain_core.prompts import ChatPromptTemplate\n",
    "\n",
    "system_prompt = (\n",
    "    \"You are an assistant for question-answering tasks. \"\n",
    "    \"Use the following pieces of retrieved context to answer \"\n",
    "    \"the question. If you don't know the answer, say that you \"\n",
    "    \"don't know. Use five sentences maximum and keep the \"\n",
    "    \"answer concise.\"\n",
    "    \"\\n\\n\"\n",
    "    \"{context}\"\n",
    ")\n",
    "\n",
    "prompt = ChatPromptTemplate.from_messages(\n",
    "    [\n",
    "        (\"system\", system_prompt),\n",
    "        (\"human\", \"{input}\"),\n",
    "    ]\n",
    ")"
   ]
  },
  {
   "cell_type": "code",
   "execution_count": 28,
   "id": "f60adbc6-6156-4dbb-b214-81fba34323f7",
   "metadata": {},
   "outputs": [],
   "source": [
    "# Create a question-answering chain that uses the language model (LLM) and a custom prompt.\n",
    "# This \"stuff\" chain feeds all retrieved documents into the prompt at once (simple concatenation).\n",
    "question_answer_chain = create_stuff_documents_chain(llm, prompt)\n",
    "\n",
    "# Create a RAG (Retrieval-Augmented Generation) chain by combining:\n",
    "# - the retriever (which fetches relevant documents based on a query)\n",
    "# - the question-answering chain (which uses the LLM to answer questions based on the documents)\n",
    "rag_chain = create_retrieval_chain(retriever, question_answer_chain)\n"
   ]
  },
  {
   "cell_type": "code",
   "execution_count": 30,
   "id": "ce3a78b0-330f-4e8a-ae01-da87ec41c570",
   "metadata": {},
   "outputs": [
    {
     "name": "stdout",
     "output_type": "stream",
     "text": [
      "Technology is often developed from the basic knowledge of science combined with engineering. Science might study the flow of electrons in electrical conductors by using already-existing tools and knowledge. This new-found knowledge may then be used by engineers to manufacture new tools and machines such as semiconductors and computers. Science, technology, and engineering are often considered as one for research and development purposes. Engineering is the application of mathematics, as well as scientific, economic, social, and practical knowledge.\n"
     ]
    }
   ],
   "source": [
    "response = rag_chain.invoke({\"input\": \"Tell me about relationship of science, technology and engineering\"})\n",
    "print(response[\"answer\"])"
   ]
  },
  {
   "cell_type": "code",
   "execution_count": null,
   "id": "c43e67c7-d986-477c-a722-032ac9cb05f8",
   "metadata": {},
   "outputs": [],
   "source": []
  }
 ],
 "metadata": {
  "kernelspec": {
   "display_name": "Python 3 (ipykernel)",
   "language": "python",
   "name": "python3"
  },
  "language_info": {
   "codemirror_mode": {
    "name": "ipython",
    "version": 3
   },
   "file_extension": ".py",
   "mimetype": "text/x-python",
   "name": "python",
   "nbconvert_exporter": "python",
   "pygments_lexer": "ipython3",
   "version": "3.10.16"
  },
  "polyglot_notebook": {
   "kernelInfo": {
    "defaultKernelName": "csharp",
    "items": [
     {
      "aliases": [],
      "name": "csharp"
     }
    ]
   }
  }
 },
 "nbformat": 4,
 "nbformat_minor": 5
}
