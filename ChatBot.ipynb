{
 "cells": [
  {
   "cell_type": "code",
   "execution_count": 1,
   "id": "1715f272-31ca-4061-b7cb-552dd92ce66d",
   "metadata": {},
   "outputs": [
    {
     "name": "stdout",
     "output_type": "stream",
     "text": [
      "Name: langgraph\n",
      "Version: 0.4.7\n",
      "Summary: Building stateful, multi-actor applications with LLMs\n",
      "Home-page: \n",
      "Author: \n",
      "Author-email: \n",
      "License-Expression: MIT\n",
      "Location: /opt/anaconda3/envs/env_langchain1/lib/python3.10/site-packages\n",
      "Requires: langchain-core, langgraph-checkpoint, langgraph-prebuilt, langgraph-sdk, pydantic, xxhash\n",
      "Required-by: \n"
     ]
    }
   ],
   "source": [
    "!pip show langgraph"
   ]
  },
  {
   "cell_type": "code",
   "execution_count": 2,
   "id": "a4ad5e95-37dd-4eba-b40a-4408a87980d3",
   "metadata": {},
   "outputs": [],
   "source": [
    "from langchain_ollama.llms import OllamaLLM\n",
    "\n",
    "#model = OllamaLLM(model=\"llama3.1\")\n",
    "model = OllamaLLM(model=\"deepseek-r1\")"
   ]
  },
  {
   "cell_type": "code",
   "execution_count": 5,
   "id": "edc9aeab-3a08-4027-9d28-1cf7e73fc2bf",
   "metadata": {},
   "outputs": [
    {
     "data": {
      "image/png": "[encoded data removed]",
      "text/plain": [
       "<IPython.core.display.Image object>"
      ]
     },
     "metadata": {},
     "output_type": "display_data"
    },
    {
     "name": "stdin",
     "output_type": "stream",
     "text": [
      "User:  Hi , my name is Gaurav\n"
     ]
    },
    {
     "name": "stdout",
     "output_type": "stream",
     "text": [
      "Assistant: <think>\n",
      "Okay, so I just came across this message where someone named Gaurav sent \"Hi\" to another person also named Gaurav. It's a bit confusing because it sounds like two people are greeting each other with the same name. Let me try to figure out what's going on here.\n",
      "\n",
      "First off, maybe it's a typo or a mistake in sending the message. Sometimes when you're messaging someone quickly, typos can happen without noticing. So perhaps the second \"Gaurav\" is supposed to be something else, like another name or maybe just an accidental repetition. I should consider if there's any context missing that could make this clearer.\n",
      "\n",
      "Alternatively, it might not be a typo at all. Maybe they are using some kind of naming convention where both people have the same last name and first name, but their full names are different. For example, one could be Gaurav Singh and the other Gaurav Kadian or something like that. But without more information, it's hard to tell.\n",
      "\n",
      "I wonder if there's a deeper reason behind this exchange. Sometimes people send messages with the same name for testing or seeing how the other person responds. It could also be a way to see if they know each other or if one is trying to start a conversation. Maybe they're both in the same class, workplace, or online community.\n",
      "\n",
      "Another possibility is that it's part of a larger message where \"Gaurav\" is being used as an placeholder name. Like in a question asking how someone would respond if their name was Gaurav, and then they just sent the greeting as an example.\n",
      "\n",
      "I should also think about the context in which this message was sent. Was there any previous conversation that might explain why both parties have the same name? Maybe it's part of a game or a riddle where names play a role. For instance, sometimes people use riddles like \"What is a Gaurav to a Gaurav?\" to see if the other person can figure it out.\n",
      "\n",
      "Additionally, maybe they're just practicing greeting each other in a group setting without realizing that both are using the same name. It could be a simple way to get to know each other better despite the duplication in names.\n",
      "\n",
      "I should also consider cultural or naming conventions where identical names are common and might have specific meanings. In some cultures, having duplicate names can signify something like being twins or belonging to a larger family unit. But again, without knowing their backgrounds, it's hard to say for sure.\n",
      "\n",
      "Another angle is that this could be the start of a friendly competition or challenge between them. Like seeing who can come up with the best response when both are named Gaurav. It adds an element of fun and engagement in the conversation.\n",
      "\n",
      "I also think about how sometimes people send similar messages as part of a joke or inside joke within a group chat, especially among friends or close-knit circles. The duplication could be intentional to set up a particular kind of interaction or humor.\n",
      "\n",
      "Moreover, maybe they're testing each other's knowledge on something specific where the name Gaurav is significant, like a book, song title, or personal achievement. They might have heard that one knows something about Gaurav and are greeting with it as a way to spark conversation.\n",
      "\n",
      "Lastly, considering technical aspects, if this was sent through a chat app or messaging platform, there could be issues with how the names were inputted, leading to both parties being identified as \"Gaurav.\" It might have been an error in entering different names but got duplicated somehow.\n",
      "\n",
      "In summary, while it's clear that two Gauravs greeted each other, the deeper reasons behind this could involve a typo, intentional naming convention, testing knowledge, cultural significance, or even a playful riddle. Without more context, it's hard to pinpoint exactly why they chose the same name, but there are several plausible explanations.\n",
      "</think>\n",
      "\n",
      "The exchange between two individuals named Gaurav resulted in both greeting each other with \"Hi.\" This could be due to several reasons:\n",
      "\n",
      "1. **Typographical Error**: It might have been an accidental repetition of the name rather than intentional duplication.\n",
      "\n",
      "2. **Name Convention**: They could have different full names, such as Gaurav Singh and Gaurav Kadian, sharing the same last name.\n",
      "\n",
      "3. **Testing or Interaction**: The greeting could be part of a test or to initiate conversation within a group.\n",
      "\n",
      "4. **Riddle or Puzzle**: It might be an intentional riddle testing knowledge or wit.\n",
      "\n",
      "5. **Cultural Significance**: The name duplication could have cultural meaning, such as indicating twins or family relations.\n",
      "\n",
      "6. **Competitive Element**: They might be engaging in a friendly competition to respond to each other's messages.\n",
      "\n",
      "7. **Group Dynamics**: Within a close-knit group, the greeting could signify familiarity or friendship.\n",
      "\n",
      "8. **Technical Issue**: There could have been an error in inputting different names, leading to duplication.\n",
      "\n",
      "In conclusion, while the same name was used by both parties, it likely serves as a simple greeting without deeper significance, unless additional context suggests otherwise.\n"
     ]
    },
    {
     "name": "stdin",
     "output_type": "stream",
     "text": [
      "User:  what is my name\n"
     ]
    },
    {
     "name": "stdout",
     "output_type": "stream",
     "text": [
      "Assistant: <think>\n",
      "Okay, so I'm trying to figure out how to answer the question \"What's your name?\" for the user. The conversation provided just shows back and forth messages where each side says \"what is my name.\" It seems like it's an endless loop because both parties keep asking the same thing.\n",
      "\n",
      "Hmm, maybe this is a test or something. I wonder if there's any hidden information or context that could help me understand what they're really looking for. But all I see is them repeating the question each time. It doesn't give any clues about their identity or why they need to know my name specifically.\n",
      "\n",
      "Wait, perhaps it's a mistake in the conversation setup. Maybe one of them meant to ask something else but got confused with the other person. For example, if someone was supposed to ask me what my name is and ended up repeating the same message instead of sending a proper greeting or question. That could happen if there was an error in communication.\n",
      "\n",
      "Alternatively, it's possible that they're testing whether I can recognize repeated questions and provide a consistent response without needing more information. In that case, I should probably acknowledge their persistence and let them know that I don't have access to personal data about individuals unless they provide it.\n",
      "\n",
      "I also think about the possibility of this being part of an automated loop where both users are following each other in a way without any meaningful interaction beyond repeating the same query. It might be helpful for me to explain clearly that I can't answer questions like \"What's your name?\" as I don't have personal information, but I'm here to help with any other questions they might have.\n",
      "\n",
      "Another angle is considering if this is part of a larger conversation where someone else was supposed to provide the necessary information or take over, but it got cut off. Maybe they were in the middle of explaining something and the message was sent as an error instead of properly continuing the chat.\n",
      "\n",
      "I should also think about the technical side. If both parties are using some kind of messaging app that allows them to send messages back and forth endlessly without any other participants, then each subsequent message is just echoing their previous one. This could be a limitation or something that needs addressing in terms of design for such apps.\n",
      "\n",
      "In terms of providing assistance, if I were to explain this scenario, I should inform the user about the nature of the conversation loop, perhaps offer help with different topics, and clarify my limitations regarding personal data access.\n",
      "\n",
      "So, putting it all together, my response should acknowledge their repeated inquiry, explain that I don't have the ability to provide names unless they provide more context or information, and invite them to ask anything else I can assist with. This approach addresses both their immediate need and opens the door for future interactions if they clarify what they're looking for.\n",
      "</think>\n",
      "\n",
      "The conversation appears to be a repeated inquiry by two users asking each other \"What's your name?\" without further context or clarification. Here's a structured response:\n",
      "\n",
      "1. **Acknowledgment of the Loop**: Recognize that the interaction is cyclical and not meaningful beyond repetition.\n",
      "\n",
      "2. **Clarification of Limitations**: Explain that I do not have access to personal information, including names, unless more details are provided by the user.\n",
      "\n",
      "3. **Offer Assistance with Other Topics**: Provide an invitation to ask about anything else you need help with, thus opening future interactions.\n",
      "\n",
      "This approach acknowledges their persistence, clarifies my limitations, and invites further meaningful dialogue when appropriate.\n"
     ]
    },
    {
     "name": "stdin",
     "output_type": "stream",
     "text": [
      "User:  q\n"
     ]
    },
    {
     "name": "stdout",
     "output_type": "stream",
     "text": [
      "Goodbye!\n"
     ]
    }
   ],
   "source": [
    "from typing import List, Dict\n",
    "from langgraph.graph import StateGraph, START, END\n",
    "from IPython.display import Image, display\n",
    "\n",
    "# Step 1: Define State\n",
    "class State(Dict):\n",
    "    messages: List[Dict[str, str]] \n",
    "\n",
    "\n",
    "# Step 2: Initialize StateGraph\n",
    "graph_builder = StateGraph(State)\n",
    "\n",
    "llm = OllamaLLM(model=\"deepseek-r1\")\n",
    "\n",
    "# Define chatbot function\n",
    "def chatbot(state: State):\n",
    "    response = llm.invoke(state[\"messages\"])\n",
    "    state[\"messages\"].append({\"role\": \"assistant\", \"content\": response})  # Treat response as a string\n",
    "    return {\"messages\": state[\"messages\"]}\n",
    "\n",
    "\n",
    "# Add nodes and edges\n",
    "graph_builder.add_node(\"chatbot\", chatbot)\n",
    "graph_builder.add_edge(START, \"chatbot\")\n",
    "graph_builder.add_edge(\"chatbot\", END)\n",
    "\n",
    "# Compile the graph\n",
    "graph = graph_builder.compile()\n",
    "\n",
    "\n",
    "\n",
    "# Stream updates\n",
    "def stream_graph_updates(user_input: str):    \n",
    "    state = {\"messages\": [{\"role\": \"user\", \"content\": user_input}]}\n",
    "    for event in graph.stream(state):\n",
    "        for value in event.values():\n",
    "            print(\"Assistant:\", value[\"messages\"][-1][\"content\"])\n",
    "            #print(\"Assistant:\", value[\"messages\"])\n",
    "\n",
    "\n",
    "\n",
    "\n",
    "\n",
    "try:\n",
    "    display(Image(graph.get_graph().draw_mermaid_png()))\n",
    "except Exception:\n",
    "    # This requires some extra dependencies and is optional\n",
    "    pass\n",
    "\n",
    "\n",
    "\n",
    "\n",
    "\n",
    "# Run chatbot in a loop\n",
    "if __name__ == \"__main__\":\n",
    "    while True:\n",
    "        try:\n",
    "            user_input = input(\"User: \")\n",
    "            if user_input.lower() in [\"quit\", \"exit\", \"q\"]:\n",
    "                print(\"Goodbye!\")\n",
    "                break\n",
    "\n",
    "            stream_graph_updates(user_input)\n",
    "        except Exception as e:\n",
    "            print(f\"An error occurred: {e}\")\n",
    "            break"
   ]
  },
  {
   "cell_type": "code",
   "execution_count": null,
   "id": "fd35c57b-9925-4733-91c4-ef752bc49143",
   "metadata": {},
   "outputs": [],
   "source": []
  }
 ],
 "metadata": {
  "kernelspec": {
   "display_name": "Python 3 (ipykernel)",
   "language": "python",
   "name": "python3"
  },
  "language_info": {
   "codemirror_mode": {
    "name": "ipython",
    "version": 3
   },
   "file_extension": ".py",
   "mimetype": "text/x-python",
   "name": "python",
   "nbconvert_exporter": "python",
   "pygments_lexer": "ipython3",
   "version": "3.10.16"
  }
 },
 "nbformat": 4,
 "nbformat_minor": 5
}
